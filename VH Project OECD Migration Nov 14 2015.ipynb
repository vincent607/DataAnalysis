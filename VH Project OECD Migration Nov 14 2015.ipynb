{
 "cells": [
  {
   "cell_type": "code",
   "execution_count": null,
   "metadata": {
    "collapsed": true
   },
   "outputs": [],
   "source": [
    "#OECD Migration - What affects it?\n",
    "#Problem: I set out to machine learn the reasons factors that affect migration from one country to another.  \n",
    "#As the issue of reliability of the data is important, I decided to limit my list of destination countries \n",
    "#to those that are members of the OECD.  As a political science major from a long time ago and an international news junkie, \n",
    "#I have always been one to peruse the OECD’s news site from time to time as it tends to be a great barometer\n",
    "#in comparing developed countries.  \n"
   ]
  },
  {
   "cell_type": "code",
   "execution_count": null,
   "metadata": {
    "collapsed": true
   },
   "outputs": [],
   "source": [
    "#Background\n",
    "#Ripped from the Headlines\n",
    "#VALLETTA, Malta — Sweden on Thursday defended its decision to reintroduce border controls as European Union leaders signed an aid agreement worth 1.8 billion euros with African nations intended to stem the influx of migrants.\n",
    "#Prime Minister Stefan Lofven of Sweden framed the issue as a temporary measure to maintain order, but the new controls represent another blow to a flagship European Union policy of allowing free movement of people across most of the bloc’s internal borders.\n",
    "#The Continent is contending with the most serious migration crisis since World War II, and the move by Sweden highlights a shifting dynamic.\n",
    "#“Migrants really only want to reach four or five countries and, among those, mainly Germany and Sweden,” said Martijn Pluim of the International Center for Migration Policy Development, an international organization based in Vienna.\n",
    "#New York Times November 12, 2015\n"
   ]
  },
  {
   "cell_type": "code",
   "execution_count": null,
   "metadata": {
    "collapsed": true
   },
   "outputs": [],
   "source": [
    "#For those who are not familiar with the OECD, I will explain:\n",
    "#The Organization for Economic Co-operation and Development (OECD) celebrated its 50th anniversary, but its roots go back to the rubble of Europe after World War II. Determined to avoid the mistakes of their predecessors in the wake of World War I, European leaders realized that the best way to ensure lasting peace was to encourage co-operation and reconstruction, rather than punish the defeated.\n",
    "#The Organization for European Economic Cooperation (OEEC) was established in 1948 to run the US-financed Marshall Plan for reconstruction of a continent ravaged by war. By making individual governments recognize the interdependence of their economies, it paved the way for a new era of cooperation that was to change the face of Europe. Encouraged by its success and the prospect of carrying its work forward on a global stage, Canada and the US joined OEEC members in signing the new OECD Convention on 14 December 1960. The Organization for Economic Co-operation and Development (OECD) was officially born on 30 September 1961, when the Convention entered into force.\n",
    "#Other countries joined in, starting with Japan in 1964. Today, 34 OECD member countries worldwide regularly turn to one another to identify problems, discuss and analyze them, and promote policies to solve them. The track record is striking. The US has seen its national wealth almost triple in the five decades since the OECD was created, calculated in terms of gross domestic product per head of population. Other OECD countries have seen similar, and in some cases even more spectacular, progress.\n",
    "#So, too, have countries that a few decades ago were still only minor players on the world stage. Brazil, India and the People's Republic of China have emerged as new economic giants. The three of them, with Indonesia and South Africa, are Key Partners of the Organization and contribute to its work in a sustained and comprehensive manner. Together with them, the OECD brings around its table 39 countries that account for 80% of world trade and investment, giving it a pivotal role in addressing the challenges facing the world economy.\n"
   ]
  },
  {
   "cell_type": "code",
   "execution_count": null,
   "metadata": {
    "collapsed": true
   },
   "outputs": [],
   "source": [
    "#Method – Regression analysis is a form of predictive modelling technique which investigates the relationship between a dependent (target) and independent variable (s) (predictor). This technique is used for forecasting, time series modelling and finding the causal effect relationship between the variables.\n",
    "#Regression analysis is an important tool for modelling and analyzing data. Here, we fit a curve / line to the data points, in such a manner that the differences between the distances of data points from the curve or line is minimized\n",
    "#The first step was collecting data. I scoured the data module of the OECD’s statistics website (http://stats.oecd.org/) for factors that intuitively seemed to me to be reasons for choosing a destination country and placed them into a spreadsheet.\n",
    "#While I found many some features on the OECD website, I felt it prudent to also include a search of the World Bank’s Data Site (http://data.worldbank.org/) as well in order to vary the features a bit.\n"
   ]
  },
  {
   "cell_type": "code",
   "execution_count": 1,
   "metadata": {
    "collapsed": false
   },
   "outputs": [],
   "source": [
    "import pandas as pd\n",
    "import numpy as np\n",
    "import matplotlib.pyplot as plt\n",
    "import sklearn as sk\n",
    "from sklearn import neighbors\n",
    "from sklearn import linear_model\n",
    "from sklearn.linear_model import Lasso\n",
    "from sklearn.linear_model import Ridge\n",
    "from sklearn.preprocessing import StandardScaler\n",
    "from sklearn import cross_validation\n",
    "from sklearn.metrics import mean_squared_error\n",
    "from sklearn.metrics import r2_score\n",
    "from sklearn import grid_search\n",
    "from sklearn import cross_validation\n",
    "import statsmodels.formula.api as sm\n",
    "%matplotlib inline"
   ]
  },
  {
   "cell_type": "code",
   "execution_count": 2,
   "metadata": {
    "collapsed": false
   },
   "outputs": [],
   "source": [
    "#Here is my aggregated data set:\n",
    "df_migration = pd.read_csv('C:\\Users\\Microsoft\\Dropbox\\Family\\Vincent\\DataScience\\Final Project\\Migration Project Data Layout.csv')\n",
    "dtype={'Value':int}  \n"
   ]
  },
  {
   "cell_type": "code",
   "execution_count": 3,
   "metadata": {
    "collapsed": false
   },
   "outputs": [
    {
     "data": {
      "text/html": [
       "<div>\n",
       "<table border=\"1\" class=\"dataframe\">\n",
       "  <thead>\n",
       "    <tr style=\"text-align: right;\">\n",
       "      <th></th>\n",
       "      <th>Country_and_Time_Period</th>\n",
       "      <th>Migration Change</th>\n",
       "      <th>% Expenditure on healthcare</th>\n",
       "      <th>Infrastructure as % of GDP</th>\n",
       "      <th>Taxing Wages</th>\n",
       "      <th>Infant Mortality</th>\n",
       "      <th>Change in Unemployment</th>\n",
       "      <th>GDP Growth</th>\n",
       "      <th>Life Expectancy</th>\n",
       "    </tr>\n",
       "  </thead>\n",
       "  <tbody>\n",
       "    <tr>\n",
       "      <th>0</th>\n",
       "      <td>Australia 2001</td>\n",
       "      <td>0.193461</td>\n",
       "      <td>7.7040</td>\n",
       "      <td>0.8</td>\n",
       "      <td>21.20</td>\n",
       "      <td>5.2</td>\n",
       "      <td>0.417217</td>\n",
       "      <td>1.928669</td>\n",
       "      <td>79.634146</td>\n",
       "    </tr>\n",
       "    <tr>\n",
       "      <th>1</th>\n",
       "      <td>Australia 2002</td>\n",
       "      <td>-0.068793</td>\n",
       "      <td>7.8939</td>\n",
       "      <td>0.9</td>\n",
       "      <td>21.53</td>\n",
       "      <td>5.3</td>\n",
       "      <td>-0.347638</td>\n",
       "      <td>3.100574</td>\n",
       "      <td>80.062195</td>\n",
       "    </tr>\n",
       "    <tr>\n",
       "      <th>2</th>\n",
       "      <td>Australia 2003</td>\n",
       "      <td>0.036371</td>\n",
       "      <td>7.8996</td>\n",
       "      <td>1.0</td>\n",
       "      <td>21.96</td>\n",
       "      <td>5.0</td>\n",
       "      <td>-0.383958</td>\n",
       "      <td>3.491209</td>\n",
       "      <td>79.848171</td>\n",
       "    </tr>\n",
       "    <tr>\n",
       "      <th>3</th>\n",
       "      <td>Australia 2004</td>\n",
       "      <td>0.186612</td>\n",
       "      <td>8.1103</td>\n",
       "      <td>1.2</td>\n",
       "      <td>18.63</td>\n",
       "      <td>4.8</td>\n",
       "      <td>-0.425178</td>\n",
       "      <td>4.156585</td>\n",
       "      <td>80.490244</td>\n",
       "    </tr>\n",
       "    <tr>\n",
       "      <th>4</th>\n",
       "      <td>Australia 2005</td>\n",
       "      <td>0.104431</td>\n",
       "      <td>7.9778</td>\n",
       "      <td>1.3</td>\n",
       "      <td>20.80</td>\n",
       "      <td>4.7</td>\n",
       "      <td>-0.258171</td>\n",
       "      <td>3.216467</td>\n",
       "      <td>80.841463</td>\n",
       "    </tr>\n",
       "  </tbody>\n",
       "</table>\n",
       "</div>"
      ],
      "text/plain": [
       "  Country_and_Time_Period  Migration Change  % Expenditure on healthcare  \\\n",
       "0          Australia 2001          0.193461                       7.7040   \n",
       "1          Australia 2002         -0.068793                       7.8939   \n",
       "2          Australia 2003          0.036371                       7.8996   \n",
       "3          Australia 2004          0.186612                       8.1103   \n",
       "4          Australia 2005          0.104431                       7.9778   \n",
       "\n",
       "   Infrastructure as % of GDP  Taxing Wages  Infant Mortality  \\\n",
       "0                         0.8         21.20               5.2   \n",
       "1                         0.9         21.53               5.3   \n",
       "2                         1.0         21.96               5.0   \n",
       "3                         1.2         18.63               4.8   \n",
       "4                         1.3         20.80               4.7   \n",
       "\n",
       "   Change in Unemployment  GDP Growth  Life Expectancy  \n",
       "0                0.417217    1.928669        79.634146  \n",
       "1               -0.347638    3.100574        80.062195  \n",
       "2               -0.383958    3.491209        79.848171  \n",
       "3               -0.425178    4.156585        80.490244  \n",
       "4               -0.258171    3.216467        80.841463  "
      ]
     },
     "execution_count": 3,
     "metadata": {},
     "output_type": "execute_result"
    }
   ],
   "source": [
    "df_migration.head()"
   ]
  },
  {
   "cell_type": "code",
   "execution_count": 4,
   "metadata": {
    "collapsed": false
   },
   "outputs": [
    {
     "data": {
      "text/plain": [
       "['Country_and_Time_Period',\n",
       " 'Migration Change',\n",
       " '% Expenditure on healthcare',\n",
       " 'Infrastructure as % of GDP',\n",
       " 'Taxing Wages',\n",
       " 'Infant Mortality',\n",
       " 'Change in Unemployment',\n",
       " 'GDP Growth',\n",
       " 'Life Expectancy']"
      ]
     },
     "execution_count": 4,
     "metadata": {},
     "output_type": "execute_result"
    }
   ],
   "source": [
    "list(df_migration)"
   ]
  },
  {
   "cell_type": "code",
   "execution_count": 5,
   "metadata": {
    "collapsed": false,
    "scrolled": true
   },
   "outputs": [],
   "source": [
    "#In the end, I exact y is defined as the change in migration year over year.  \n",
    "#As the data was for 2000 through 2013, I was able to calculate the change for 13 years, 2001-2013.  \n",
    "#As for my features (x values), I chose the following:\n",
    "#1.\tExpenditure on Healthcare as a percentage of GDP Source – (OECD Stats)\n",
    "#2.\tInfrastructure spending as a percentage of GDP. (OECD Stats)\n",
    "#3.\tTaxing Wages as a percentage of wages earned – (OECD Stats)\n",
    "#4.\tInfant Mortality as a percentage of recorded births – (OECD Stats)\n",
    "#5.\tChange in Unemployment percentage year over year.  (World Bank Data)\n",
    "#6.\tChange in GDP Growth year over year. (World Bank Data)\n",
    "#7.\tLife Expectancy in years.  – (OECD Stats)\n",
    "#I normalized the target and features 5 & 6 into percentage change YOY through calculations \n",
    "#in excel and left the other features as is and created a CSV file to be read into an iPython Notebook.   \n",
    "\n",
    "\n",
    "X = df_migration[['% Expenditure on healthcare',\n",
    " 'Infrastructure as % of GDP',\n",
    " 'Taxing Wages',\n",
    " 'Infant Mortality',\n",
    " 'Change in Unemployment',\n",
    " 'GDP Growth',\n",
    " 'Life Expectancy']]\n",
    "Y= df_migration[['Migration Change']]"
   ]
  },
  {
   "cell_type": "code",
   "execution_count": 28,
   "metadata": {
    "collapsed": false
   },
   "outputs": [],
   "source": [
    "#My hypothesis at the beginning of this project was that while economic opportunity is not necessarily \n",
    "#the push that causes an individual to leave his own country, it might play heavily is his decision of the destination.  \n",
    "#In other words, why would you go to the UK rather than Belgium?  \n",
    "#Does word of mouth over job opportunities and the like affect choice?  \n",
    "#Or is there something else going on here?  Does financial security or physical environment trump wages?    \n"
   ]
  },
  {
   "cell_type": "code",
   "execution_count": 6,
   "metadata": {
    "collapsed": false
   },
   "outputs": [],
   "source": [
    "X_train, X_test, y_train, y_test = cross_validation.train_test_split(X, Y, test_size=0.2)   "
   ]
  },
  {
   "cell_type": "code",
   "execution_count": 7,
   "metadata": {
    "collapsed": false
   },
   "outputs": [
    {
     "data": {
      "text/html": [
       "<div>\n",
       "<table border=\"1\" class=\"dataframe\">\n",
       "  <thead>\n",
       "    <tr style=\"text-align: right;\">\n",
       "      <th></th>\n",
       "      <th>% Expenditure on healthcare</th>\n",
       "      <th>Infrastructure as % of GDP</th>\n",
       "      <th>Taxing Wages</th>\n",
       "      <th>Infant Mortality</th>\n",
       "      <th>Change in Unemployment</th>\n",
       "      <th>GDP Growth</th>\n",
       "      <th>Life Expectancy</th>\n",
       "    </tr>\n",
       "  </thead>\n",
       "  <tbody>\n",
       "    <tr>\n",
       "      <th>% Expenditure on healthcare</th>\n",
       "      <td>1.000000</td>\n",
       "      <td>-0.164472</td>\n",
       "      <td>0.089083</td>\n",
       "      <td>-0.297754</td>\n",
       "      <td>0.189273</td>\n",
       "      <td>-0.349570</td>\n",
       "      <td>0.443464</td>\n",
       "    </tr>\n",
       "    <tr>\n",
       "      <th>Infrastructure as % of GDP</th>\n",
       "      <td>-0.164472</td>\n",
       "      <td>1.000000</td>\n",
       "      <td>-0.062759</td>\n",
       "      <td>-0.274516</td>\n",
       "      <td>-0.035731</td>\n",
       "      <td>0.129404</td>\n",
       "      <td>0.045742</td>\n",
       "    </tr>\n",
       "    <tr>\n",
       "      <th>Taxing Wages</th>\n",
       "      <td>0.089083</td>\n",
       "      <td>-0.062759</td>\n",
       "      <td>1.000000</td>\n",
       "      <td>-0.082352</td>\n",
       "      <td>0.022583</td>\n",
       "      <td>-0.151693</td>\n",
       "      <td>-0.188857</td>\n",
       "    </tr>\n",
       "    <tr>\n",
       "      <th>Infant Mortality</th>\n",
       "      <td>-0.297754</td>\n",
       "      <td>-0.274516</td>\n",
       "      <td>-0.082352</td>\n",
       "      <td>1.000000</td>\n",
       "      <td>-0.012265</td>\n",
       "      <td>0.184551</td>\n",
       "      <td>-0.594419</td>\n",
       "    </tr>\n",
       "    <tr>\n",
       "      <th>Change in Unemployment</th>\n",
       "      <td>0.189273</td>\n",
       "      <td>-0.035731</td>\n",
       "      <td>0.022583</td>\n",
       "      <td>-0.012265</td>\n",
       "      <td>1.000000</td>\n",
       "      <td>-0.635875</td>\n",
       "      <td>0.112697</td>\n",
       "    </tr>\n",
       "    <tr>\n",
       "      <th>GDP Growth</th>\n",
       "      <td>-0.349570</td>\n",
       "      <td>0.129404</td>\n",
       "      <td>-0.151693</td>\n",
       "      <td>0.184551</td>\n",
       "      <td>-0.635875</td>\n",
       "      <td>1.000000</td>\n",
       "      <td>-0.311103</td>\n",
       "    </tr>\n",
       "    <tr>\n",
       "      <th>Life Expectancy</th>\n",
       "      <td>0.443464</td>\n",
       "      <td>0.045742</td>\n",
       "      <td>-0.188857</td>\n",
       "      <td>-0.594419</td>\n",
       "      <td>0.112697</td>\n",
       "      <td>-0.311103</td>\n",
       "      <td>1.000000</td>\n",
       "    </tr>\n",
       "  </tbody>\n",
       "</table>\n",
       "</div>"
      ],
      "text/plain": [
       "                             % Expenditure on healthcare  \\\n",
       "% Expenditure on healthcare                     1.000000   \n",
       "Infrastructure as % of GDP                     -0.164472   \n",
       "Taxing Wages                                    0.089083   \n",
       "Infant Mortality                               -0.297754   \n",
       "Change in Unemployment                          0.189273   \n",
       "GDP Growth                                     -0.349570   \n",
       "Life Expectancy                                 0.443464   \n",
       "\n",
       "                             Infrastructure as % of GDP  Taxing Wages  \\\n",
       "% Expenditure on healthcare                   -0.164472      0.089083   \n",
       "Infrastructure as % of GDP                     1.000000     -0.062759   \n",
       "Taxing Wages                                  -0.062759      1.000000   \n",
       "Infant Mortality                              -0.274516     -0.082352   \n",
       "Change in Unemployment                        -0.035731      0.022583   \n",
       "GDP Growth                                     0.129404     -0.151693   \n",
       "Life Expectancy                                0.045742     -0.188857   \n",
       "\n",
       "                             Infant Mortality  Change in Unemployment  \\\n",
       "% Expenditure on healthcare         -0.297754                0.189273   \n",
       "Infrastructure as % of GDP          -0.274516               -0.035731   \n",
       "Taxing Wages                        -0.082352                0.022583   \n",
       "Infant Mortality                     1.000000               -0.012265   \n",
       "Change in Unemployment              -0.012265                1.000000   \n",
       "GDP Growth                           0.184551               -0.635875   \n",
       "Life Expectancy                     -0.594419                0.112697   \n",
       "\n",
       "                             GDP Growth  Life Expectancy  \n",
       "% Expenditure on healthcare   -0.349570         0.443464  \n",
       "Infrastructure as % of GDP     0.129404         0.045742  \n",
       "Taxing Wages                  -0.151693        -0.188857  \n",
       "Infant Mortality               0.184551        -0.594419  \n",
       "Change in Unemployment        -0.635875         0.112697  \n",
       "GDP Growth                     1.000000        -0.311103  \n",
       "Life Expectancy               -0.311103         1.000000  "
      ]
     },
     "execution_count": 7,
     "metadata": {},
     "output_type": "execute_result"
    }
   ],
   "source": [
    "X_train.corr()"
   ]
  },
  {
   "cell_type": "code",
   "execution_count": 8,
   "metadata": {
    "collapsed": false
   },
   "outputs": [
    {
     "name": "stdout",
     "output_type": "stream",
     "text": [
      "coefficient [[ 0.00168007  0.03071896 -0.00241606 -0.00428446 -0.06439758  0.00124852\n",
      "  -0.02010262]]\n",
      "intercept [ 1.72582962]\n",
      "Mean squared error for liner regression: 0.067889058933\n",
      "('R2: ', <function r2_score at 0x000000000C6A9AC8>)\n"
     ]
    }
   ],
   "source": [
    "lr_rgr = linear_model.LinearRegression()\n",
    "lr_rgr.fit(X_train,y_train)\n",
    "results = lr_rgr.fit(X_train,y_train)\n",
    "print(\"coefficient {}\".format(lr_rgr.coef_))\n",
    "print(\"intercept {}\".format(lr_rgr.intercept_))\n",
    "\n",
    "LR_MSE = mean_squared_error(y_test, lr_rgr.predict(X_test))\n",
    "print('Mean squared error for liner regression: {}'.format(LR_MSE))\n",
    "print('R2: ', r2_score)"
   ]
  },
  {
   "cell_type": "code",
   "execution_count": 9,
   "metadata": {
    "collapsed": false
   },
   "outputs": [
    {
     "name": "stdout",
     "output_type": "stream",
     "text": [
      "('Linear Mean Squared Error is', 0.067878724002441243)\n",
      "Linear Regression Model Coefficients Are:\n",
      "[(array([ 0.00337982,  0.01276776, -0.02504065, -0.01677627, -0.07317141,\n",
      "        0.00369293, -0.05262166]), '% Expenditure on healthcare')]\n",
      "('R2: ', <function r2_score at 0x000000000C6A9AC8>)\n"
     ]
    }
   ],
   "source": [
    "sk_linreg_model = sk.linear_model.LinearRegression()\n",
    "scaled_test_x = sk.preprocessing.scale(X_test)\n",
    "scaled_train_x = sk.preprocessing.scale(X_train)\n",
    "sk_linreg_model.fit(scaled_train_x,y_train.values)\n",
    "\n",
    "linreg_error = mean_squared_error(y_test,sk_linreg_model.predict(scaled_test_x))\n",
    "print('Linear Mean Squared Error is',linreg_error)\n",
    "print 'Linear Regression Model Coefficients Are:' \n",
    "print([i for i in zip(sk_linreg_model.coef_,X_test.keys())])\n",
    "print('R2: ', r2_score)"
   ]
  },
  {
   "cell_type": "code",
   "execution_count": 30,
   "metadata": {
    "collapsed": false
   },
   "outputs": [
    {
     "name": "stdout",
     "output_type": "stream",
     "text": [
      "('Coefficient: \\n', array([[-0.00030477,  0.04204102, -0.00225293, -0.00405866, -0.05976579,\n",
      "         0.00024677, -0.01750829]]))\n",
      "('Intercept: \\n', array([ 1.51975373]))\n"
     ]
    }
   ],
   "source": [
    "# Train the model using the training sets and check score\n",
    "lr_rgr.fit(X_train, y_train)\n",
    "lr_rgr.score(X_train, y_train)\n",
    "#Equation coefficient and Intercept\n",
    "print('Coefficient: \\n', lr_rgr.coef_)\n",
    "print('Intercept: \\n', lr_rgr.intercept_)\n",
    "#Predict Output\n",
    "predicted= lr_rgr.predict(X_test)\n"
   ]
  },
  {
   "cell_type": "code",
   "execution_count": null,
   "metadata": {
    "collapsed": true
   },
   "outputs": [],
   "source": [
    "#Regression coefficients represent the mean change in the response variable for one unit of change in the predictor \n",
    "#variable while holding other predictors in the model constant. \n",
    "#This statistical control that regression provides is important because it isolates \n",
    "#the role of one variable from all of the others in the model.\n",
    "\n",
    "#The key to understanding the coefficients is to think of them as slopes, and they’re often called slope coefficients.\n"
   ]
  },
  {
   "cell_type": "code",
   "execution_count": 27,
   "metadata": {
    "collapsed": false
   },
   "outputs": [
    {
     "ename": "ValueError",
     "evalue": "x and y must be the same size",
     "output_type": "error",
     "traceback": [
      "\u001b[1;31m---------------------------------------------------------------------------\u001b[0m",
      "\u001b[1;31mValueError\u001b[0m                                Traceback (most recent call last)",
      "\u001b[1;32m<ipython-input-27-e2e114ea1a14>\u001b[0m in \u001b[0;36m<module>\u001b[1;34m()\u001b[0m\n\u001b[1;32m----> 1\u001b[1;33m \u001b[0mplt\u001b[0m\u001b[1;33m.\u001b[0m\u001b[0mscatter\u001b[0m\u001b[1;33m(\u001b[0m\u001b[0mscaled_test_x\u001b[0m\u001b[1;33m,\u001b[0m\u001b[0mnp\u001b[0m\u001b[1;33m.\u001b[0m\u001b[0mravel\u001b[0m\u001b[1;33m(\u001b[0m\u001b[0my_test\u001b[0m\u001b[1;33m)\u001b[0m\u001b[1;33m)\u001b[0m\u001b[1;33m\u001b[0m\u001b[0m\n\u001b[0m\u001b[0;32m      2\u001b[0m \u001b[0mplt\u001b[0m\u001b[1;33m.\u001b[0m\u001b[0mtitle\u001b[0m\u001b[1;33m(\u001b[0m\u001b[1;34m'Relationship between Factors and Migration'\u001b[0m\u001b[1;33m)\u001b[0m\u001b[1;33m\u001b[0m\u001b[0m\n\u001b[0;32m      3\u001b[0m \u001b[0mplt\u001b[0m\u001b[1;33m.\u001b[0m\u001b[0mxlabel\u001b[0m\u001b[1;33m(\u001b[0m\u001b[1;34m'X'\u001b[0m\u001b[1;33m)\u001b[0m\u001b[1;33m\u001b[0m\u001b[0m\n\u001b[0;32m      4\u001b[0m \u001b[0mplt\u001b[0m\u001b[1;33m.\u001b[0m\u001b[0mylabel\u001b[0m\u001b[1;33m(\u001b[0m\u001b[1;34m'Y'\u001b[0m\u001b[1;33m)\u001b[0m\u001b[1;33m\u001b[0m\u001b[0m\n",
      "\u001b[1;32mC:\\Anaconda\\lib\\site-packages\\matplotlib\\pyplot.pyc\u001b[0m in \u001b[0;36mscatter\u001b[1;34m(x, y, s, c, marker, cmap, norm, vmin, vmax, alpha, linewidths, verts, hold, **kwargs)\u001b[0m\n\u001b[0;32m   3198\u001b[0m         ret = ax.scatter(x, y, s=s, c=c, marker=marker, cmap=cmap, norm=norm,\n\u001b[0;32m   3199\u001b[0m                          \u001b[0mvmin\u001b[0m\u001b[1;33m=\u001b[0m\u001b[0mvmin\u001b[0m\u001b[1;33m,\u001b[0m \u001b[0mvmax\u001b[0m\u001b[1;33m=\u001b[0m\u001b[0mvmax\u001b[0m\u001b[1;33m,\u001b[0m \u001b[0malpha\u001b[0m\u001b[1;33m=\u001b[0m\u001b[0malpha\u001b[0m\u001b[1;33m,\u001b[0m\u001b[1;33m\u001b[0m\u001b[0m\n\u001b[1;32m-> 3200\u001b[1;33m                          linewidths=linewidths, verts=verts, **kwargs)\n\u001b[0m\u001b[0;32m   3201\u001b[0m         \u001b[0mdraw_if_interactive\u001b[0m\u001b[1;33m(\u001b[0m\u001b[1;33m)\u001b[0m\u001b[1;33m\u001b[0m\u001b[0m\n\u001b[0;32m   3202\u001b[0m     \u001b[1;32mfinally\u001b[0m\u001b[1;33m:\u001b[0m\u001b[1;33m\u001b[0m\u001b[0m\n",
      "\u001b[1;32mC:\\Anaconda\\lib\\site-packages\\matplotlib\\axes\\_axes.pyc\u001b[0m in \u001b[0;36mscatter\u001b[1;34m(self, x, y, s, c, marker, cmap, norm, vmin, vmax, alpha, linewidths, verts, **kwargs)\u001b[0m\n\u001b[0;32m   3589\u001b[0m         \u001b[0my\u001b[0m \u001b[1;33m=\u001b[0m \u001b[0mnp\u001b[0m\u001b[1;33m.\u001b[0m\u001b[0mma\u001b[0m\u001b[1;33m.\u001b[0m\u001b[0mravel\u001b[0m\u001b[1;33m(\u001b[0m\u001b[0my\u001b[0m\u001b[1;33m)\u001b[0m\u001b[1;33m\u001b[0m\u001b[0m\n\u001b[0;32m   3590\u001b[0m         \u001b[1;32mif\u001b[0m \u001b[0mx\u001b[0m\u001b[1;33m.\u001b[0m\u001b[0msize\u001b[0m \u001b[1;33m!=\u001b[0m \u001b[0my\u001b[0m\u001b[1;33m.\u001b[0m\u001b[0msize\u001b[0m\u001b[1;33m:\u001b[0m\u001b[1;33m\u001b[0m\u001b[0m\n\u001b[1;32m-> 3591\u001b[1;33m             \u001b[1;32mraise\u001b[0m \u001b[0mValueError\u001b[0m\u001b[1;33m(\u001b[0m\u001b[1;34m\"x and y must be the same size\"\u001b[0m\u001b[1;33m)\u001b[0m\u001b[1;33m\u001b[0m\u001b[0m\n\u001b[0m\u001b[0;32m   3592\u001b[0m \u001b[1;33m\u001b[0m\u001b[0m\n\u001b[0;32m   3593\u001b[0m         \u001b[0ms\u001b[0m \u001b[1;33m=\u001b[0m \u001b[0mnp\u001b[0m\u001b[1;33m.\u001b[0m\u001b[0mma\u001b[0m\u001b[1;33m.\u001b[0m\u001b[0mravel\u001b[0m\u001b[1;33m(\u001b[0m\u001b[0ms\u001b[0m\u001b[1;33m)\u001b[0m  \u001b[1;31m# This doesn't have to match x, y in size.\u001b[0m\u001b[1;33m\u001b[0m\u001b[0m\n",
      "\u001b[1;31mValueError\u001b[0m: x and y must be the same size"
     ]
    },
    {
     "data": {
      "image/png": "[encoded data removed]",
      "text/plain": [
       "<matplotlib.figure.Figure at 0x1bad3128>"
      ]
     },
     "metadata": {},
     "output_type": "display_data"
    }
   ],
   "source": [
    "plt.scatter(scaled_test_x,np.ravel(y_test))\n",
    "plt.title('Relationship between Factors and Migration')\n",
    "plt.xlabel('X')\n",
    "plt.ylabel('Y')"
   ]
  },
  {
   "cell_type": "code",
   "execution_count": 10,
   "metadata": {
    "collapsed": false
   },
   "outputs": [
    {
     "name": "stdout",
     "output_type": "stream",
     "text": [
      "('KNN Mean Squared Error is', 0.082936514144218765)\n"
     ]
    }
   ],
   "source": [
    "knn = neighbors.KNeighborsRegressor(n_neighbors = 20)\n",
    "knn_error = mean_squared_error(knn.fit(scaled_train_x, y_train).predict(scaled_test_x),y_test.values)\n",
    "print('KNN Mean Squared Error is',knn_error)"
   ]
  },
  {
   "cell_type": "code",
   "execution_count": 11,
   "metadata": {
    "collapsed": false
   },
   "outputs": [
    {
     "name": "stdout",
     "output_type": "stream",
     "text": [
      "('KNN Mean Squared Error is', 0.074052838693972306)\n",
      "('Best n_neighbors is', 48)\n"
     ]
    }
   ],
   "source": [
    "param_grid = [{'n_neighbors': range(1,50)}]\n",
    "\n",
    "knn = neighbors.KNeighborsRegressor()\n",
    "knn_cv = grid_search.GridSearchCV(knn, param_grid, cv=5)\n",
    "knn_cv.fit(scaled_train_x, y_train.values)\n",
    "\n",
    "knn_error = mean_squared_error(knn_cv.predict(scaled_test_x),y_test.values)\n",
    "print('KNN Mean Squared Error is',knn_error)\n",
    "print('Best n_neighbors is',knn_cv.best_params_['n_neighbors'])"
   ]
  },
  {
   "cell_type": "code",
   "execution_count": null,
   "metadata": {
    "collapsed": false
   },
   "outputs": [],
   "source": [
    "param_grid = [{'alpha': np.linspace(1e-10, 1, 50)}]\n",
    "\n",
    "lasso_rgr = Lasso()\n",
    "lasso_cv = grid_search.GridSearchCV(lasso_rgr, param_grid, cv=5)\n",
    "lasso_cv.fit(scaled_train_x, y_train.values)\n",
    "lasso_error = mean_squared_error(lasso_cv.predict(scaled_test_x),y_test.values)\n",
    "\n",
    "print('Lasso Mean Squared Error is',lasso_error)\n",
    "print('Best alpha is',lasso_cv.best_params_['alpha'])\n",
    "print('Lasso Regression Model Coefficients Are:')\n",
    "print([i for i in zip(lasso_cv.best_estimator_.coef_,X_train.keys())])"
   ]
  },
  {
   "cell_type": "code",
   "execution_count": 12,
   "metadata": {
    "collapsed": false
   },
   "outputs": [
    {
     "name": "stdout",
     "output_type": "stream",
     "text": [
      "('Ridge Mean Squared Error is', 0.06784021024205085)\n",
      "('Best alpha is', 1.0)\n",
      "Ridge Regression Model Coefficients Are:\n",
      "[(array([ 0.0032609 ,  0.0127404 , -0.02482125, -0.01655047, -0.07279244,\n",
      "        0.00401106, -0.05218791]), '% Expenditure on healthcare')]\n"
     ]
    }
   ],
   "source": [
    "param_grid = [{'alpha': np.linspace(1e-10, 1, 50)}]\n",
    "ridge_rgr = Ridge()\n",
    "ridge_cv = grid_search.GridSearchCV(ridge_rgr, param_grid, cv=5)\n",
    "ridge_cv.fit(scaled_train_x, y_train.values)\n",
    "ridge_error = mean_squared_error(ridge_cv.predict(scaled_test_x),y_test.values)\n",
    "\n",
    "print('Ridge Mean Squared Error is',ridge_error)\n",
    "print('Best alpha is',ridge_cv.best_params_['alpha'])\n",
    "print('Ridge Regression Model Coefficients Are:')\n",
    "print([i for i in zip(ridge_cv.best_estimator_.coef_,X_train.keys())])"
   ]
  },
  {
   "cell_type": "code",
   "execution_count": null,
   "metadata": {
    "collapsed": true
   },
   "outputs": [],
   "source": [
    "#As shown above, "
   ]
  },
  {
   "cell_type": "code",
   "execution_count": 13,
   "metadata": {
    "collapsed": false
   },
   "outputs": [
    {
     "data": {
      "text/plain": [
       "<matplotlib.axes._subplots.AxesSubplot at 0x18095e10>"
      ]
     },
     "execution_count": 13,
     "metadata": {},
     "output_type": "execute_result"
    },
    {
     "data": {
      "image/png": "[encoded data removed]",
      "text/plain": [
       "<matplotlib.figure.Figure at 0x18095f98>"
      ]
     },
     "metadata": {},
     "output_type": "display_data"
    }
   ],
   "source": [
    "df_migration['Migration Change'].hist(bins=50)"
   ]
  },
  {
   "cell_type": "code",
   "execution_count": 14,
   "metadata": {
    "collapsed": false
   },
   "outputs": [
    {
     "data": {
      "text/plain": [
       "<matplotlib.axes._subplots.AxesSubplot at 0x184c8160>"
      ]
     },
     "execution_count": 14,
     "metadata": {},
     "output_type": "execute_result"
    },
    {
     "data": {
      "image/png": "[encoded data removed]",
      "text/plain": [
       "<matplotlib.figure.Figure at 0x18216828>"
      ]
     },
     "metadata": {},
     "output_type": "display_data"
    }
   ],
   "source": [
    "df_migration[df_migration['Migration Change']<1.5]['Migration Change'].hist(bins=20)"
   ]
  },
  {
   "cell_type": "code",
   "execution_count": 17,
   "metadata": {
    "collapsed": false
   },
   "outputs": [],
   "source": [
    "from sklearn.ensemble import RandomForestRegressor\n",
    "param_grid = [{'n_estimators': range(20,90)}]\n",
    "rgr = RandomForestRegressor(n_estimators=100, oob_score=True, random_state=42)\n",
    "rgr.fit(X_train, np.ravel(y_train))\n",
    "Random_Forest_cv = grid_search.GridSearchCV(rgr, param_grid, cv=5)\n",
    "Random_Forest_cv.fit(scaled_train_x, np.ravel(y_train))\n",
    "Random_Forest_error = mean_squared_error(Random_Forest_cv.predict(scaled_test_x),np.ravel(y_test))"
   ]
  },
  {
   "cell_type": "code",
   "execution_count": 18,
   "metadata": {
    "collapsed": false
   },
   "outputs": [
    {
     "name": "stdout",
     "output_type": "stream",
     "text": [
      "('Random_Forest_error Mean Squared Error is', 0.050652990595333326)\n",
      "('Best n_estimators is', 59)\n",
      "Random Forest Regression Model feature_importances Are:\n",
      "[(0.11198204830100876, '% Expenditure on healthcare'), (0.052870839774881453, 'Infrastructure as % of GDP'), (0.071205673930913649, 'Taxing Wages'), (0.089475204026026253, 'Infant Mortality'), (0.18162729616215745, 'Change in Unemployment'), (0.11165308821820051, 'GDP Growth'), (0.38118584958681195, 'Life Expectancy')]\n"
     ]
    }
   ],
   "source": [
    "print('Random_Forest_error Mean Squared Error is',Random_Forest_error)\n",
    "print('Best n_estimators is',Random_Forest_cv.best_params_['n_estimators'])\n",
    "print('Random Forest Regression Model feature_importances Are:')\n",
    "print([i for i in zip(Random_Forest_cv.best_estimator_.feature_importances_,X_train.keys())])"
   ]
  },
  {
   "cell_type": "code",
   "execution_count": 19,
   "metadata": {
    "collapsed": false
   },
   "outputs": [],
   "source": [
    "from sklearn.ensemble import AdaBoostRegressor\n",
    "param_grid = [{'n_estimators': range(50,100)}]\n",
    "rgr = AdaBoostRegressor()\n",
    "AdaBoost_cv = grid_search.GridSearchCV(rgr, param_grid, cv=5)\n",
    "AdaBoost_cv.fit(X_train, np.ravel(y_train))\n",
    "AdaBoost_error = mean_squared_error(AdaBoost_cv.predict(X_test),np.ravel(y_test))"
   ]
  },
  {
   "cell_type": "code",
   "execution_count": 20,
   "metadata": {
    "collapsed": false
   },
   "outputs": [
    {
     "name": "stdout",
     "output_type": "stream",
     "text": [
      "('AdaBoost_error Mean Squared Error is', 0.036345295880175092)\n",
      "('Best n_estimators is', 71)\n",
      "AdaBoost Regression Model feature_importances Are:\n",
      "[(0.15900777248467868, '% Expenditure on healthcare'), (0.18274143381859229, 'Infrastructure as % of GDP'), (0.064169418160231514, 'Taxing Wages'), (0.14466596093897405, 'Infant Mortality'), (0.24907503159672026, 'Change in Unemployment'), (0.044871855714121812, 'GDP Growth'), (0.15546852728668129, 'Life Expectancy')]\n"
     ]
    }
   ],
   "source": [
    "print('AdaBoost_error Mean Squared Error is',AdaBoost_error)\n",
    "print('Best n_estimators is',AdaBoost_cv.best_params_['n_estimators'])\n",
    "print('AdaBoost Regression Model feature_importances Are:')\n",
    "print([i for i in zip(AdaBoost_cv.best_estimator_.feature_importances_,X_train.keys())])"
   ]
  },
  {
   "cell_type": "code",
   "execution_count": 16,
   "metadata": {
    "collapsed": false
   },
   "outputs": [],
   "source": [
    "from sklearn.ensemble import GradientBoostingRegressor\n",
    "param_grid = [{'n_estimators': range(50,100)}]\n",
    "rgr = GradientBoostingRegressor()\n",
    "GradientBoosting_cv = grid_search.GridSearchCV(rgr, param_grid, cv=5)\n",
    "GradientBoosting_cv.fit(X_train, np.ravel(y_train))\n",
    "GradientBoosting_error = mean_squared_error(GradientBoosting_cv.predict(X_test),np.ravel(y_test))"
   ]
  },
  {
   "cell_type": "code",
   "execution_count": 17,
   "metadata": {
    "collapsed": false
   },
   "outputs": [
    {
     "name": "stdout",
     "output_type": "stream",
     "text": [
      "('GradientBoosting_error Mean Squared Error is', 0.071074905509577638)\n",
      "('Best n_estimators is', 56)\n",
      "GradientBoosting Regression Model feature_importances Are:\n",
      "[(0.14339473683660739, '% Expenditure on healthcare'), (0.030670861680578306, 'Infrastructure as % of GDP'), (0.15094146566146058, 'Taxing Wages'), (0.12504323177482407, 'Infant Mortality'), (0.15934750853942573, 'Change in Unemployment'), (0.091678328876080531, 'GDP Growth'), (0.29892386663102333, 'Life Expectancy')]\n"
     ]
    }
   ],
   "source": [
    "print('GradientBoosting_error Mean Squared Error is',GradientBoosting_error)\n",
    "print('Best n_estimators is',GradientBoosting_cv.best_params_['n_estimators'])\n",
    "print('GradientBoosting Regression Model feature_importances Are:')\n",
    "print([i for i in zip(GradientBoosting_cv.best_estimator_.feature_importances_,X_train.keys())])"
   ]
  },
  {
   "cell_type": "code",
   "execution_count": 23,
   "metadata": {
    "collapsed": false
   },
   "outputs": [
    {
     "ename": "SyntaxError",
     "evalue": "invalid syntax (<ipython-input-23-cbd356fafc65>, line 18)",
     "output_type": "error",
     "traceback": [
      "\u001b[1;36m  File \u001b[1;32m\"<ipython-input-23-cbd356fafc65>\"\u001b[1;36m, line \u001b[1;32m18\u001b[0m\n\u001b[1;33m    Ridge_Poly_MSE = mean_squared_error(y_test_scaled, ridge_poly_cv.best_estimator_.predict(poly.fit_transform(x_test_scaled)))\u001b[0m\n\u001b[1;37m                 ^\u001b[0m\n\u001b[1;31mSyntaxError\u001b[0m\u001b[1;31m:\u001b[0m invalid syntax\n"
     ]
    }
   ],
   "source": [
    "from sklearn.preprocessing import PolynomialFeatures\n",
    "from sklearn.metrics import make_scorer, mean_squared_error\n",
    "\n",
    "mse = make_scorer(mean_squared_error, greater_is_better = False)\n",
    "poly = PolynomialFeatures(2)\n",
    "\n",
    "\n",
    "#Polynomial\n",
    "poly_rgr = linear_model.LinearRegression()\n",
    "poly_rgr.fit(poly.fit_transform(X_train),y_train)\n",
    "prediction = poly_rgr.predict(poly.fit_transform(X_test))\n",
    "Poly_MSE = mean_squared_error(y_test, prediction )\n",
    "\n",
    "#Polynomial Ridge \n",
    "ridge_poly_rgr = linear_model.Ridge()\n",
    "ridge_poly_cv = grid_search.GridSearchCV(ridge_poly_rgr, param_grid,cv=5, scoring=mse)\n",
    "ridge_poly_cv.fit(poly.fit_transform(scaled_train_x), np.ravel(y_test)\n",
    "Ridge_Poly_MSE = mean_squared_error(y_test_scaled, ridge_poly_cv.best_estimator_.predict(poly.fit_transform(x_test_scaled)))\n",
    "\n",
    "#Polynomial Lasso\n",
    "lasso_poly_rgr = linear_model.Lasso()\n",
    "lasso_poly_cv = grid_search.GridSearchCV(lasso_poly_rgr, param_grid, cv=5, scoring=mse)\n",
    "lasso_poly_cv.fit(poly.fit_transform(X_train_scaled), y_train_scaled)\n",
    "Lasso_Poly_MSE = mean_squared_error(y_test_scaled, lasso_poly_cv.best_estimator_.predict(poly.fit_transform(X_test_scaled)))\n",
    "\n",
    "\n",
    "print('Mean squared error for Polynomial regression: {}'.format(Poly_MSE))\n",
    "print('Mean squared error for Polynomial Ridge regression: {}'.format(Ridge_Poly_MSE))\n",
    "print('Mean squared error for Polynomial Lasso regression: {}'.format(Lasso_Poly_MSE))"
   ]
  },
  {
   "cell_type": "code",
   "execution_count": 24,
   "metadata": {
    "collapsed": false
   },
   "outputs": [
    {
     "ename": "SyntaxError",
     "evalue": "invalid syntax (<ipython-input-24-2e8c2d693e67>, line 18)",
     "output_type": "error",
     "traceback": [
      "\u001b[1;36m  File \u001b[1;32m\"<ipython-input-24-2e8c2d693e67>\"\u001b[1;36m, line \u001b[1;32m18\u001b[0m\n\u001b[1;33m    Lasso_Poly3_MSE = mean_squared_error(y_test_scaled, lasso_poly3_cv.best_estimator_.predict(poly3.fit_transform(X_test_scaled)))\u001b[0m\n\u001b[1;37m                  ^\u001b[0m\n\u001b[1;31mSyntaxError\u001b[0m\u001b[1;31m:\u001b[0m invalid syntax\n"
     ]
    }
   ],
   "source": [
    "poly3 = PolynomialFeatures(3)\n",
    "\n",
    "#Polynomial\n",
    "poly3_rgr = linear_model.LinearRegression()\n",
    "poly3_rgr.fit(poly3.fit_transform(X_train),y_train)\n",
    "Poly3_MSE = mean_squared_error(y_test, poly3_rgr.predict(poly3.fit_transform(X_test)))\n",
    "\n",
    "#Polynomial Ridge \n",
    "ridge_poly3_rgr = linear_model.Ridge()\n",
    "ridge_poly3_cv = grid_search.GridSearchCV(ridge_poly3_rgr, param_grid,cv=5, scoring=mse)\n",
    "ridge_poly3_cv.fit(poly3.fit_transform(scaled_train_x), y_train_scaled)\n",
    "Ridge_Poly3_MSE = mean_squared_error(y_test_scaled, ridge_poly3_cv.best_estimator_.predict(poly3.fit_transform(X_test_scaled)))\n",
    "\n",
    "#Polynomial Lasso\n",
    "lasso_poly3_rgr = linear_model.Lasso()\n",
    "lasso_poly3_cv = grid_search.GridSearchCV(lasso_poly3_rgr, param_grid, cv=5, scoring=mse)\n",
    "lasso_poly3_cv.fit(poly3.fit_transform(scaled_train_x), y_np.ravel(y_test)\n",
    "Lasso_Poly3_MSE = mean_squared_error(y_test_scaled, lasso_poly3_cv.best_estimator_.predict(poly3.fit_transform(X_test_scaled)))\n",
    "\n",
    "\n",
    "print('Mean squared error for Polynomial 3 regression: {}'.format(Poly3_MSE))\n",
    "print('Mean squared error for Polynomial 3 Ridge regression: {}'.format(Ridge_Poly3_MSE))\n",
    "print('Mean squared error for Polynomial 3 Lasso regression: {}'.format(Lasso_Poly3_MSE))"
   ]
  },
  {
   "cell_type": "code",
   "execution_count": 25,
   "metadata": {
    "collapsed": false
   },
   "outputs": [
    {
     "ename": "NameError",
     "evalue": "name 'lasso_poly_cv' is not defined",
     "output_type": "error",
     "traceback": [
      "\u001b[1;31m---------------------------------------------------------------------------\u001b[0m",
      "\u001b[1;31mNameError\u001b[0m                                 Traceback (most recent call last)",
      "\u001b[1;32m<ipython-input-25-8ec0b3a4d243>\u001b[0m in \u001b[0;36m<module>\u001b[1;34m()\u001b[0m\n\u001b[1;32m----> 1\u001b[1;33m \u001b[0mabs\u001b[0m\u001b[1;33m(\u001b[0m\u001b[0mlasso_poly_cv\u001b[0m\u001b[1;33m.\u001b[0m\u001b[0mbest_estimator_\u001b[0m\u001b[1;33m.\u001b[0m\u001b[0mfit\u001b[0m\u001b[1;33m(\u001b[0m\u001b[0mpoly\u001b[0m\u001b[1;33m.\u001b[0m\u001b[0mfit_transform\u001b[0m\u001b[1;33m(\u001b[0m\u001b[0mX_train_scaled\u001b[0m\u001b[1;33m)\u001b[0m\u001b[1;33m,\u001b[0m \u001b[0my_train_scaled\u001b[0m\u001b[1;33m)\u001b[0m\u001b[1;33m.\u001b[0m\u001b[0mcoef_\u001b[0m\u001b[1;33m)\u001b[0m \u001b[1;33m>\u001b[0m \u001b[1;36m.5\u001b[0m\u001b[1;33m\u001b[0m\u001b[0m\n\u001b[0m",
      "\u001b[1;31mNameError\u001b[0m: name 'lasso_poly_cv' is not defined"
     ]
    }
   ],
   "source": [
    "abs(lasso_poly_cv.best_estimator_.fit(poly.fit_transform(X_train_scaled), y_train_scaled).coef_) > .5"
   ]
  },
  {
   "cell_type": "code",
   "execution_count": 33,
   "metadata": {
    "collapsed": false
   },
   "outputs": [
    {
     "name": "stderr",
     "output_type": "stream",
     "text": [
      "C:\\Anaconda\\lib\\site-packages\\sklearn\\utils\\validation.py:449: DataConversionWarning: A column-vector y was passed when a 1d array was expected. Please change the shape of y to (n_samples, ), for example using ravel().\n",
      "  y = column_or_1d(y, warn=True)\n",
      "C:\\Anaconda\\lib\\site-packages\\sklearn\\utils\\validation.py:449: DataConversionWarning: A column-vector y was passed when a 1d array was expected. Please change the shape of y to (n_samples, ), for example using ravel().\n",
      "  y = column_or_1d(y, warn=True)\n",
      "C:\\Anaconda\\lib\\site-packages\\sklearn\\utils\\validation.py:449: DataConversionWarning: A column-vector y was passed when a 1d array was expected. Please change the shape of y to (n_samples, ), for example using ravel().\n",
      "  y = column_or_1d(y, warn=True)\n",
      "C:\\Anaconda\\lib\\site-packages\\sklearn\\utils\\validation.py:449: DataConversionWarning: A column-vector y was passed when a 1d array was expected. Please change the shape of y to (n_samples, ), for example using ravel().\n",
      "  y = column_or_1d(y, warn=True)\n",
      "C:\\Anaconda\\lib\\site-packages\\sklearn\\utils\\validation.py:449: DataConversionWarning: A column-vector y was passed when a 1d array was expected. Please change the shape of y to (n_samples, ), for example using ravel().\n",
      "  y = column_or_1d(y, warn=True)\n",
      "C:\\Anaconda\\lib\\site-packages\\sklearn\\utils\\validation.py:449: DataConversionWarning: A column-vector y was passed when a 1d array was expected. Please change the shape of y to (n_samples, ), for example using ravel().\n",
      "  y = column_or_1d(y, warn=True)\n",
      "C:\\Anaconda\\lib\\site-packages\\sklearn\\utils\\validation.py:449: DataConversionWarning: A column-vector y was passed when a 1d array was expected. Please change the shape of y to (n_samples, ), for example using ravel().\n",
      "  y = column_or_1d(y, warn=True)\n",
      "C:\\Anaconda\\lib\\site-packages\\sklearn\\utils\\validation.py:449: DataConversionWarning: A column-vector y was passed when a 1d array was expected. Please change the shape of y to (n_samples, ), for example using ravel().\n",
      "  y = column_or_1d(y, warn=True)\n",
      "C:\\Anaconda\\lib\\site-packages\\sklearn\\utils\\validation.py:449: DataConversionWarning: A column-vector y was passed when a 1d array was expected. Please change the shape of y to (n_samples, ), for example using ravel().\n",
      "  y = column_or_1d(y, warn=True)\n",
      "C:\\Anaconda\\lib\\site-packages\\sklearn\\utils\\validation.py:449: DataConversionWarning: A column-vector y was passed when a 1d array was expected. Please change the shape of y to (n_samples, ), for example using ravel().\n",
      "  y = column_or_1d(y, warn=True)\n",
      "C:\\Anaconda\\lib\\site-packages\\sklearn\\utils\\validation.py:449: DataConversionWarning: A column-vector y was passed when a 1d array was expected. Please change the shape of y to (n_samples, ), for example using ravel().\n",
      "  y = column_or_1d(y, warn=True)\n",
      "C:\\Anaconda\\lib\\site-packages\\sklearn\\utils\\validation.py:449: DataConversionWarning: A column-vector y was passed when a 1d array was expected. Please change the shape of y to (n_samples, ), for example using ravel().\n",
      "  y = column_or_1d(y, warn=True)\n",
      "C:\\Anaconda\\lib\\site-packages\\sklearn\\utils\\validation.py:449: DataConversionWarning: A column-vector y was passed when a 1d array was expected. Please change the shape of y to (n_samples, ), for example using ravel().\n",
      "  y = column_or_1d(y, warn=True)\n",
      "C:\\Anaconda\\lib\\site-packages\\sklearn\\utils\\validation.py:449: DataConversionWarning: A column-vector y was passed when a 1d array was expected. Please change the shape of y to (n_samples, ), for example using ravel().\n",
      "  y = column_or_1d(y, warn=True)\n",
      "C:\\Anaconda\\lib\\site-packages\\sklearn\\utils\\validation.py:449: DataConversionWarning: A column-vector y was passed when a 1d array was expected. Please change the shape of y to (n_samples, ), for example using ravel().\n",
      "  y = column_or_1d(y, warn=True)\n",
      "C:\\Anaconda\\lib\\site-packages\\sklearn\\utils\\validation.py:449: DataConversionWarning: A column-vector y was passed when a 1d array was expected. Please change the shape of y to (n_samples, ), for example using ravel().\n",
      "  y = column_or_1d(y, warn=True)\n",
      "C:\\Anaconda\\lib\\site-packages\\sklearn\\utils\\validation.py:449: DataConversionWarning: A column-vector y was passed when a 1d array was expected. Please change the shape of y to (n_samples, ), for example using ravel().\n",
      "  y = column_or_1d(y, warn=True)\n",
      "C:\\Anaconda\\lib\\site-packages\\sklearn\\utils\\validation.py:449: DataConversionWarning: A column-vector y was passed when a 1d array was expected. Please change the shape of y to (n_samples, ), for example using ravel().\n",
      "  y = column_or_1d(y, warn=True)\n",
      "C:\\Anaconda\\lib\\site-packages\\sklearn\\utils\\validation.py:449: DataConversionWarning: A column-vector y was passed when a 1d array was expected. Please change the shape of y to (n_samples, ), for example using ravel().\n",
      "  y = column_or_1d(y, warn=True)\n"
     ]
    },
    {
     "data": {
      "text/plain": [
       "GridSearchCV(cv=None, error_score='raise',\n",
       "       estimator=Pipeline(steps=[('pca', PCA(copy=True, n_components=None, whiten=False)), ('linear', GradientBoostingRegressor(alpha=0.9, init=None, learning_rate=0.1, loss='ls',\n",
       "             max_depth=3, max_features=None, max_leaf_nodes=None,\n",
       "             min_samples_leaf=1, min_samples_split=2,\n",
       "             min_weight_fraction_leaf=0.0, n_estimators=100,\n",
       "             random_state=None, subsample=1.0, verbose=0, warm_start=False))]),\n",
       "       fit_params={}, iid=True, loss_func=None, n_jobs=1,\n",
       "       param_grid={'pca__n_components': [1, 2, 3, 4, 5, 6]},\n",
       "       pre_dispatch='2*n_jobs', refit=True, score_func=None, scoring=None,\n",
       "       verbose=0)"
      ]
     },
     "execution_count": 33,
     "metadata": {},
     "output_type": "execute_result"
    }
   ],
   "source": [
    "#Principal Components Regression - The main purposes of a principal component analysis are the analysis of data\n",
    "#to identify patterns and finding patterns to reduce the dimensions of the dataset with minimal loss of information.\n",
    "from sklearn import linear_model, decomposition\n",
    "from sklearn.pipeline import Pipeline\n",
    "from sklearn.grid_search import GridSearchCV\n",
    "\n",
    "lr_rgr = linear_model.LinearRegression()\n",
    "\n",
    "pca = decomposition.PCA()\n",
    "pipe = Pipeline(steps=[('pca', pca), ('linear', rgr)])\n",
    "\n",
    "n_components = [1,2,3,4,5,6]\n",
    "\n",
    "estimator = GridSearchCV(pipe,{'pca__n_components':n_components})\n",
    "estimator.fit(X_train, y_train)"
   ]
  },
  {
   "cell_type": "code",
   "execution_count": 34,
   "metadata": {
    "collapsed": false
   },
   "outputs": [
    {
     "data": {
      "text/plain": [
       "[mean: -2.57134, std: 3.25940, params: {'pca__n_components': 1},\n",
       " mean: -12.45843, std: 12.04391, params: {'pca__n_components': 2},\n",
       " mean: -7.29896, std: 5.66058, params: {'pca__n_components': 3},\n",
       " mean: -6.11777, std: 5.16062, params: {'pca__n_components': 4},\n",
       " mean: -6.46874, std: 4.81474, params: {'pca__n_components': 5},\n",
       " mean: -6.32560, std: 5.50262, params: {'pca__n_components': 6}]"
      ]
     },
     "execution_count": 34,
     "metadata": {},
     "output_type": "execute_result"
    }
   ],
   "source": [
    "estimator.grid_scores_"
   ]
  },
  {
   "cell_type": "code",
   "execution_count": 35,
   "metadata": {
    "collapsed": false
   },
   "outputs": [
    {
     "data": {
      "text/plain": [
       "<Container object of 7 artists>"
      ]
     },
     "execution_count": 35,
     "metadata": {},
     "output_type": "execute_result"
    },
    {
     "data": {
      "image/png": "[encoded data removed]",
      "text/plain": [
       "<matplotlib.figure.Figure at 0x1b965080>"
      ]
     },
     "metadata": {},
     "output_type": "display_data"
    }
   ],
   "source": [
    "from sklearn.decomposition import PCA\n",
    "estimator = PCA()\n",
    "X_pca = estimator.fit_transform(X_train)\n",
    "\n",
    "plt.figure()\n",
    "total_variance = sum(estimator.explained_variance_)\n",
    "varaince_explaned = [1.0*i/total_variance for i in estimator.explained_variance_]\n",
    "\n",
    "plt.bar(range(len(estimator.explained_variance_)), varaince_explaned)"
   ]
  },
  {
   "cell_type": "code",
   "execution_count": 39,
   "metadata": {
    "collapsed": false
   },
   "outputs": [
    {
     "ename": "ValueError",
     "evalue": "total size of new array must be unchanged",
     "output_type": "error",
     "traceback": [
      "\u001b[1;31m---------------------------------------------------------------------------\u001b[0m",
      "\u001b[1;31mValueError\u001b[0m                                Traceback (most recent call last)",
      "\u001b[1;32m<ipython-input-39-1e71c2985e0d>\u001b[0m in \u001b[0;36m<module>\u001b[1;34m()\u001b[0m\n\u001b[0;32m      3\u001b[0m \u001b[1;33m\u001b[0m\u001b[0m\n\u001b[0;32m      4\u001b[0m \u001b[0mrgr\u001b[0m \u001b[1;33m=\u001b[0m \u001b[0mlinear_model\u001b[0m\u001b[1;33m.\u001b[0m\u001b[0mLinearRegression\u001b[0m\u001b[1;33m(\u001b[0m\u001b[1;33m)\u001b[0m\u001b[1;33m\u001b[0m\u001b[0m\n\u001b[1;32m----> 5\u001b[1;33m \u001b[0mrgr\u001b[0m\u001b[1;33m.\u001b[0m\u001b[0mfit\u001b[0m\u001b[1;33m(\u001b[0m\u001b[0mX_pca\u001b[0m\u001b[1;33m[\u001b[0m\u001b[1;33m:\u001b[0m\u001b[1;33m,\u001b[0m\u001b[1;36m0\u001b[0m\u001b[1;33m]\u001b[0m\u001b[1;33m.\u001b[0m\u001b[0mreshape\u001b[0m\u001b[1;33m(\u001b[0m\u001b[1;36m67\u001b[0m\u001b[1;33m,\u001b[0m\u001b[1;36m1\u001b[0m\u001b[1;33m)\u001b[0m\u001b[1;33m,\u001b[0m \u001b[0my_train\u001b[0m\u001b[1;33m)\u001b[0m\u001b[1;33m\u001b[0m\u001b[0m\n\u001b[0m",
      "\u001b[1;31mValueError\u001b[0m: total size of new array must be unchanged"
     ]
    }
   ],
   "source": [
    "estimator = PCA(n_components = 7)\n",
    "X_pca = estimator.fit_transform(X_train)\n",
    "\n",
    "rgr = linear_model.LinearRegression()\n",
    "rgr.fit(X_pca[:,0].reshape(67,1), y_train)"
   ]
  },
  {
   "cell_type": "code",
   "execution_count": 38,
   "metadata": {
    "collapsed": false
   },
   "outputs": [
    {
     "ename": "ValueError",
     "evalue": "total size of new array must be unchanged",
     "output_type": "error",
     "traceback": [
      "\u001b[1;31m---------------------------------------------------------------------------\u001b[0m",
      "\u001b[1;31mValueError\u001b[0m                                Traceback (most recent call last)",
      "\u001b[1;32m<ipython-input-38-58eb30c60043>\u001b[0m in \u001b[0;36m<module>\u001b[1;34m()\u001b[0m\n\u001b[0;32m      1\u001b[0m \u001b[0mX_pca_test\u001b[0m \u001b[1;33m=\u001b[0m \u001b[0mestimator\u001b[0m\u001b[1;33m.\u001b[0m\u001b[0mtransform\u001b[0m\u001b[1;33m(\u001b[0m\u001b[0mX_test\u001b[0m\u001b[1;33m)\u001b[0m\u001b[1;33m\u001b[0m\u001b[0m\n\u001b[1;32m----> 2\u001b[1;33m \u001b[0mpred\u001b[0m \u001b[1;33m=\u001b[0m\u001b[0mrgr\u001b[0m\u001b[1;33m.\u001b[0m\u001b[0mpredict\u001b[0m\u001b[1;33m(\u001b[0m\u001b[0mX_pca_test\u001b[0m\u001b[1;33m[\u001b[0m\u001b[1;33m:\u001b[0m\u001b[1;33m,\u001b[0m\u001b[1;36m0\u001b[0m\u001b[1;33m]\u001b[0m\u001b[1;33m.\u001b[0m\u001b[0mreshape\u001b[0m\u001b[1;33m(\u001b[0m\u001b[1;36m30\u001b[0m\u001b[1;33m,\u001b[0m\u001b[1;36m1\u001b[0m\u001b[1;33m)\u001b[0m\u001b[1;33m)\u001b[0m\u001b[1;33m\u001b[0m\u001b[0m\n\u001b[0m",
      "\u001b[1;31mValueError\u001b[0m: total size of new array must be unchanged"
     ]
    }
   ],
   "source": [
    "X_pca_test = estimator.transform(X_test)\n",
    "pred =rgr.predict(X_pca_test[:,0].reshape(30,1))"
   ]
  },
  {
   "cell_type": "code",
   "execution_count": 40,
   "metadata": {
    "collapsed": false
   },
   "outputs": [
    {
     "ename": "NameError",
     "evalue": "name 'pred' is not defined",
     "output_type": "error",
     "traceback": [
      "\u001b[1;31m---------------------------------------------------------------------------\u001b[0m",
      "\u001b[1;31mNameError\u001b[0m                                 Traceback (most recent call last)",
      "\u001b[1;32m<ipython-input-40-7903c5425108>\u001b[0m in \u001b[0;36m<module>\u001b[1;34m()\u001b[0m\n\u001b[1;32m----> 1\u001b[1;33m \u001b[0mmean_squared_error\u001b[0m\u001b[1;33m(\u001b[0m\u001b[0mnp\u001b[0m\u001b[1;33m.\u001b[0m\u001b[0marray\u001b[0m\u001b[1;33m(\u001b[0m\u001b[0my_test\u001b[0m\u001b[1;33m)\u001b[0m\u001b[1;33m,\u001b[0m \u001b[0mpred\u001b[0m\u001b[1;33m)\u001b[0m\u001b[1;33m\u001b[0m\u001b[0m\n\u001b[0m",
      "\u001b[1;31mNameError\u001b[0m: name 'pred' is not defined"
     ]
    }
   ],
   "source": [
    "mean_squared_error(np.array(y_test), pred)"
   ]
  },
  {
   "cell_type": "code",
   "execution_count": null,
   "metadata": {
    "collapsed": true
   },
   "outputs": [],
   "source": []
  }
 ],
 "metadata": {
  "kernelspec": {
   "display_name": "Python 2",
   "language": "python",
   "name": "python2"
  },
  "language_info": {
   "codemirror_mode": {
    "name": "ipython",
    "version": 2
   },
   "file_extension": ".py",
   "mimetype": "text/x-python",
   "name": "python",
   "nbconvert_exporter": "python",
   "pygments_lexer": "ipython2",
   "version": "2.7.10"
  }
 },
 "nbformat": 4,
 "nbformat_minor": 0
}
