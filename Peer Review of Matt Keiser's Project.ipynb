{
 "cells": [
  {
   "cell_type": "code",
   "execution_count": null,
   "metadata": {
    "collapsed": true
   },
   "outputs": [],
   "source": [
    "## Peer Review of Matt Keiser's Data Science Project\n"
   ]
  },
  {
   "cell_type": "code",
   "execution_count": null,
   "metadata": {
    "collapsed": true
   },
   "outputs": [],
   "source": [
    "# Strengths of their project (things you particularly like about it) - \n",
    "#I think that this project does a very good job at wrangling a large data set with a minimal amount of code.  \n",
    "#Using tools such a pickles shows that you are able to improve your project week by week as new concepts are introduced.  "
   ]
  },
  {
   "cell_type": "code",
   "execution_count": null,
   "metadata": {
    "collapsed": true
   },
   "outputs": [],
   "source": [
    "# Comments about things you think could be improved\n",
    "#Because of the spohisticated nature of the project, I believe that it would help to highlight some of the methodolgy \n",
    "#i.e. the \"Test the Training Procedure.\"  I think that the uniqueness of the project could be highlight with more narrative.  "
   ]
  },
  {
   "cell_type": "code",
   "execution_count": null,
   "metadata": {
    "collapsed": true
   },
   "outputs": [],
   "source": [
    "# Questions about things you don't understand\n",
    "#Some more explaination of the output from cell 13 is in order.  What is happening with these features?"
   ]
  },
  {
   "cell_type": "code",
   "execution_count": null,
   "metadata": {
    "collapsed": true
   },
   "outputs": [],
   "source": [
    "#Comments about their code\n",
    "#The code is well done, much higher level than my regression project.\n",
    "#Full disclosure that due to the size of the data sets, I did not run the code myself.  "
   ]
  },
  {
   "cell_type": "code",
   "execution_count": null,
   "metadata": {
    "collapsed": true
   },
   "outputs": [],
   "source": [
    "#* Suggestions for next steps\n",
    "#I think that the next steps from a coding point of view relate to understanding how you can get 97% accuracy.  \n",
    "# While that seems great, it seem unevenly weighted per the confusion matrix.  "
   ]
  }
 ],
 "metadata": {
  "kernelspec": {
   "display_name": "Python 2",
   "language": "python",
   "name": "python2"
  },
  "language_info": {
   "codemirror_mode": {
    "name": "ipython",
    "version": 2
   },
   "file_extension": ".py",
   "mimetype": "text/x-python",
   "name": "python",
   "nbconvert_exporter": "python",
   "pygments_lexer": "ipython2",
   "version": "2.7.10"
  }
 },
 "nbformat": 4,
 "nbformat_minor": 0
}
